{
  "nbformat": 4,
  "nbformat_minor": 0,
  "metadata": {
    "colab": {
      "provenance": [],
      "authorship_tag": "ABX9TyMSjctEPOql3CXyuD9oEjDz",
      "include_colab_link": true
    },
    "kernelspec": {
      "name": "python3",
      "display_name": "Python 3"
    },
    "language_info": {
      "name": "python"
    }
  },
  "cells": [
    {
      "cell_type": "markdown",
      "metadata": {
        "id": "view-in-github",
        "colab_type": "text"
      },
      "source": [
        "<a href=\"https://colab.research.google.com/github/Liza-b-13/liza-repo/blob/main/notebook/breaking_ML.ipynb\" target=\"_parent\"><img src=\"https://colab.research.google.com/assets/colab-badge.svg\" alt=\"Open In Colab\"/></a>"
      ]
    },
    {
      "cell_type": "markdown",
      "source": [
        "### **1. Adversarial machine learning algorithms**\n",
        "\n",
        "> Adversarial machine learning is the art of studying how to break and secure machine learning models\n",
        "\n",
        "Overfitting vs Underfitting :\n",
        "\n",
        "Detecting overfitting:             \n",
        "* ✂️ Séparer les données en un jeu d’entraînement et un jeu de test — pour vérifier si le modèle généralise bien.\n",
        "\n",
        "* ⚙️ Commencer avec un modèle simple, puis augmenter la complexité seulement si c’est nécessaire.\n",
        "\n",
        "* 🔁 Utiliser la validation croisée (cross-validation) pour évaluer le modèle de façon plus fiable sur plusieurs sous-ensembles des données.\n"
      ],
      "metadata": {
        "id": "apiUYi1D1jAU"
      }
    },
    {
      "cell_type": "code",
      "execution_count": null,
      "metadata": {
        "id": "KFwYhnoHx9ip"
      },
      "outputs": [],
      "source": []
    }
  ]
}